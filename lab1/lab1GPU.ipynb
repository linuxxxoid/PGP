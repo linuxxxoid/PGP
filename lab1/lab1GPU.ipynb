{
  "nbformat": 4,
  "nbformat_minor": 0,
  "metadata": {
    "colab": {
      "name": "lab1GPU.ipynb",
      "provenance": [],
      "collapsed_sections": []
    },
    "kernelspec": {
      "name": "python3",
      "display_name": "Python 3"
    },
    "accelerator": "GPU"
  },
  "cells": [
    {
      "cell_type": "code",
      "metadata": {
        "id": "5ModNV5naOwT",
        "colab_type": "code",
        "colab": {
          "base_uri": "https://localhost:8080/",
          "height": 1000
        },
        "outputId": "c98b5e05-0c15-4144-f6e0-b93ba170d2ae"
      },
      "source": [
        "! sudo apt install nvidia-cuda-toolkit"
      ],
      "execution_count": 1,
      "outputs": [
        {
          "output_type": "stream",
          "text": [
            "Reading package lists... Done\n",
            "Building dependency tree       \n",
            "Reading state information... Done\n",
            "The following package was automatically installed and is no longer required:\n",
            "  libnvidia-common-440\n",
            "Use 'sudo apt autoremove' to remove it.\n",
            "The following additional packages will be installed:\n",
            "  cpp-6 fonts-dejavu-core fonts-dejavu-extra g++-6 gcc-6 gcc-6-base\n",
            "  libaccinj64-9.1 libasan3 libatk-wrapper-java libatk-wrapper-java-jni\n",
            "  libcublas9.1 libcudart9.1 libcufft9.1 libcufftw9.1 libcuinj64-9.1\n",
            "  libcurand9.1 libcusolver9.1 libcusparse9.1 libgcc-6-dev libnppc9.1\n",
            "  libnppial9.1 libnppicc9.1 libnppicom9.1 libnppidei9.1 libnppif9.1\n",
            "  libnppig9.1 libnppim9.1 libnppist9.1 libnppisu9.1 libnppitc9.1 libnpps9.1\n",
            "  libnvblas9.1 libnvgraph9.1 libnvrtc9.1 libnvtoolsext1 libnvvm3\n",
            "  libstdc++-6-dev libthrust-dev libvdpau-dev libxxf86dga1 nvidia-cuda-dev\n",
            "  nvidia-cuda-doc nvidia-cuda-gdb nvidia-profiler nvidia-visual-profiler\n",
            "  openjdk-8-jre openjdk-8-jre-headless x11-utils\n",
            "Suggested packages:\n",
            "  gcc-6-locales g++-6-multilib gcc-6-doc libstdc++6-6-dbg gcc-6-multilib\n",
            "  libgcc1-dbg libgomp1-dbg libitm1-dbg libatomic1-dbg libasan3-dbg\n",
            "  liblsan0-dbg libtsan0-dbg libubsan0-dbg libcilkrts5-dbg libmpx2-dbg\n",
            "  libquadmath0-dbg libstdc++-6-doc libvdpau-doc libcupti-dev nvidia-driver\n",
            "  icedtea-8-plugin libnss-mdns fonts-ipafont-gothic fonts-ipafont-mincho\n",
            "  fonts-wqy-microhei fonts-wqy-zenhei fonts-indic mesa-utils\n",
            "Recommended packages:\n",
            "  libnvcuvid1\n",
            "The following NEW packages will be installed:\n",
            "  cpp-6 fonts-dejavu-core fonts-dejavu-extra g++-6 gcc-6 gcc-6-base\n",
            "  libaccinj64-9.1 libasan3 libatk-wrapper-java libatk-wrapper-java-jni\n",
            "  libcublas9.1 libcudart9.1 libcufft9.1 libcufftw9.1 libcuinj64-9.1\n",
            "  libcurand9.1 libcusolver9.1 libcusparse9.1 libgcc-6-dev libnppc9.1\n",
            "  libnppial9.1 libnppicc9.1 libnppicom9.1 libnppidei9.1 libnppif9.1\n",
            "  libnppig9.1 libnppim9.1 libnppist9.1 libnppisu9.1 libnppitc9.1 libnpps9.1\n",
            "  libnvblas9.1 libnvgraph9.1 libnvrtc9.1 libnvtoolsext1 libnvvm3\n",
            "  libstdc++-6-dev libthrust-dev libvdpau-dev libxxf86dga1 nvidia-cuda-dev\n",
            "  nvidia-cuda-doc nvidia-cuda-gdb nvidia-cuda-toolkit nvidia-profiler\n",
            "  nvidia-visual-profiler openjdk-8-jre openjdk-8-jre-headless x11-utils\n",
            "0 upgraded, 49 newly installed, 0 to remove and 39 not upgraded.\n",
            "Need to get 828 MB of archives.\n",
            "After this operation, 1,987 MB of additional disk space will be used.\n",
            "Get:1 http://archive.ubuntu.com/ubuntu bionic/main amd64 libxxf86dga1 amd64 2:1.1.4-1 [13.7 kB]\n",
            "Get:2 http://ppa.launchpad.net/graphics-drivers/ppa/ubuntu bionic/main amd64 libvdpau-dev amd64 1.3-0ubuntu0~gpu18.04.2 [42.7 kB]\n",
            "Get:3 http://archive.ubuntu.com/ubuntu bionic-updates/universe amd64 gcc-6-base amd64 6.5.0-2ubuntu1~18.04 [16.7 kB]\n",
            "Get:4 http://archive.ubuntu.com/ubuntu bionic-updates/universe amd64 cpp-6 amd64 6.5.0-2ubuntu1~18.04 [6,396 kB]\n",
            "Get:5 http://archive.ubuntu.com/ubuntu bionic/main amd64 fonts-dejavu-core all 2.37-1 [1,041 kB]\n",
            "Get:6 http://archive.ubuntu.com/ubuntu bionic/main amd64 fonts-dejavu-extra all 2.37-1 [1,953 kB]\n",
            "Get:7 http://archive.ubuntu.com/ubuntu bionic-updates/universe amd64 libasan3 amd64 6.5.0-2ubuntu1~18.04 [313 kB]\n",
            "Get:8 http://archive.ubuntu.com/ubuntu bionic-updates/universe amd64 libgcc-6-dev amd64 6.5.0-2ubuntu1~18.04 [2,308 kB]\n",
            "Get:9 http://archive.ubuntu.com/ubuntu bionic-updates/universe amd64 gcc-6 amd64 6.5.0-2ubuntu1~18.04 [7,067 kB]\n",
            "Get:10 http://archive.ubuntu.com/ubuntu bionic-updates/universe amd64 libstdc++-6-dev amd64 6.5.0-2ubuntu1~18.04 [1,437 kB]\n",
            "Get:11 http://archive.ubuntu.com/ubuntu bionic-updates/universe amd64 g++-6 amd64 6.5.0-2ubuntu1~18.04 [7,213 kB]\n",
            "Get:12 http://archive.ubuntu.com/ubuntu bionic/multiverse amd64 libaccinj64-9.1 amd64 9.1.85-3ubuntu1 [1,748 kB]\n",
            "Get:13 http://archive.ubuntu.com/ubuntu bionic/main amd64 x11-utils amd64 7.7+3build1 [196 kB]\n",
            "Get:14 http://archive.ubuntu.com/ubuntu bionic/main amd64 libatk-wrapper-java all 0.33.3-20ubuntu0.1 [34.7 kB]\n",
            "Get:15 http://archive.ubuntu.com/ubuntu bionic/main amd64 libatk-wrapper-java-jni amd64 0.33.3-20ubuntu0.1 [28.3 kB]\n",
            "Get:16 http://archive.ubuntu.com/ubuntu bionic/multiverse amd64 libcublas9.1 amd64 9.1.85-3ubuntu1 [25.0 MB]\n",
            "Get:17 http://archive.ubuntu.com/ubuntu bionic/multiverse amd64 libcudart9.1 amd64 9.1.85-3ubuntu1 [121 kB]\n",
            "Get:18 http://archive.ubuntu.com/ubuntu bionic/multiverse amd64 libcufft9.1 amd64 9.1.85-3ubuntu1 [76.1 MB]\n",
            "Get:19 http://archive.ubuntu.com/ubuntu bionic/multiverse amd64 libcufftw9.1 amd64 9.1.85-3ubuntu1 [131 kB]\n",
            "Get:20 http://archive.ubuntu.com/ubuntu bionic/multiverse amd64 libcuinj64-9.1 amd64 9.1.85-3ubuntu1 [1,878 kB]\n",
            "Get:21 http://archive.ubuntu.com/ubuntu bionic/multiverse amd64 libcurand9.1 amd64 9.1.85-3ubuntu1 [38.9 MB]\n",
            "Get:22 http://archive.ubuntu.com/ubuntu bionic/multiverse amd64 libcusolver9.1 amd64 9.1.85-3ubuntu1 [28.2 MB]\n",
            "Get:23 http://archive.ubuntu.com/ubuntu bionic/multiverse amd64 libcusparse9.1 amd64 9.1.85-3ubuntu1 [25.2 MB]\n",
            "Get:24 http://archive.ubuntu.com/ubuntu bionic/multiverse amd64 libnppc9.1 amd64 9.1.85-3ubuntu1 [127 kB]\n",
            "Get:25 http://archive.ubuntu.com/ubuntu bionic/multiverse amd64 libnppial9.1 amd64 9.1.85-3ubuntu1 [3,169 kB]\n",
            "Get:26 http://archive.ubuntu.com/ubuntu bionic/multiverse amd64 libnppicc9.1 amd64 9.1.85-3ubuntu1 [1,376 kB]\n",
            "Get:27 http://archive.ubuntu.com/ubuntu bionic/multiverse amd64 libnppicom9.1 amd64 9.1.85-3ubuntu1 [497 kB]\n",
            "Get:28 http://archive.ubuntu.com/ubuntu bionic/multiverse amd64 libnppidei9.1 amd64 9.1.85-3ubuntu1 [1,673 kB]\n",
            "Get:29 http://archive.ubuntu.com/ubuntu bionic/multiverse amd64 libnppif9.1 amd64 9.1.85-3ubuntu1 [20.9 MB]\n",
            "Get:30 http://archive.ubuntu.com/ubuntu bionic/multiverse amd64 libnppig9.1 amd64 9.1.85-3ubuntu1 [9,960 kB]\n",
            "Get:31 http://archive.ubuntu.com/ubuntu bionic/multiverse amd64 libnppim9.1 amd64 9.1.85-3ubuntu1 [2,295 kB]\n",
            "Get:32 http://archive.ubuntu.com/ubuntu bionic/multiverse amd64 libnppist9.1 amd64 9.1.85-3ubuntu1 [4,910 kB]\n",
            "Get:33 http://archive.ubuntu.com/ubuntu bionic/multiverse amd64 libnppisu9.1 amd64 9.1.85-3ubuntu1 [120 kB]\n",
            "Get:34 http://archive.ubuntu.com/ubuntu bionic/multiverse amd64 libnppitc9.1 amd64 9.1.85-3ubuntu1 [714 kB]\n",
            "Get:35 http://archive.ubuntu.com/ubuntu bionic/multiverse amd64 libnpps9.1 amd64 9.1.85-3ubuntu1 [2,568 kB]\n",
            "Get:36 http://archive.ubuntu.com/ubuntu bionic/multiverse amd64 libnvblas9.1 amd64 9.1.85-3ubuntu1 [132 kB]\n",
            "Get:37 http://archive.ubuntu.com/ubuntu bionic/multiverse amd64 libnvgraph9.1 amd64 9.1.85-3ubuntu1 [6,252 kB]\n",
            "Get:38 http://archive.ubuntu.com/ubuntu bionic/multiverse amd64 libnvrtc9.1 amd64 9.1.85-3ubuntu1 [6,309 kB]\n",
            "Get:39 http://archive.ubuntu.com/ubuntu bionic-updates/universe amd64 openjdk-8-jre-headless amd64 8u265-b01-0ubuntu2~18.04 [27.5 MB]\n",
            "Get:40 http://archive.ubuntu.com/ubuntu bionic-updates/universe amd64 openjdk-8-jre amd64 8u265-b01-0ubuntu2~18.04 [69.6 kB]\n",
            "Get:41 http://archive.ubuntu.com/ubuntu bionic/multiverse amd64 libnvtoolsext1 amd64 9.1.85-3ubuntu1 [31.3 kB]\n",
            "Get:42 http://archive.ubuntu.com/ubuntu bionic/multiverse amd64 libnvvm3 amd64 9.1.85-3ubuntu1 [4,274 kB]\n",
            "Get:43 http://archive.ubuntu.com/ubuntu bionic/multiverse amd64 libthrust-dev all 1.9.1~9.1.85-3ubuntu1 [461 kB]\n",
            "Get:44 http://archive.ubuntu.com/ubuntu bionic/multiverse amd64 nvidia-cuda-dev amd64 9.1.85-3ubuntu1 [263 MB]\n",
            "Get:45 http://archive.ubuntu.com/ubuntu bionic/multiverse amd64 nvidia-cuda-doc all 9.1.85-3ubuntu1 [95.2 MB]\n",
            "Get:46 http://archive.ubuntu.com/ubuntu bionic/multiverse amd64 nvidia-cuda-gdb amd64 9.1.85-3ubuntu1 [2,724 kB]\n",
            "Get:47 http://archive.ubuntu.com/ubuntu bionic/multiverse amd64 nvidia-profiler amd64 9.1.85-3ubuntu1 [2,672 kB]\n",
            "Get:48 http://archive.ubuntu.com/ubuntu bionic/multiverse amd64 nvidia-cuda-toolkit amd64 9.1.85-3ubuntu1 [30.4 MB]\n",
            "Get:49 http://archive.ubuntu.com/ubuntu bionic/multiverse amd64 nvidia-visual-profiler amd64 9.1.85-3ubuntu1 [115 MB]\n",
            "Fetched 828 MB in 41s (20.2 MB/s)\n",
            "debconf: unable to initialize frontend: Dialog\n",
            "debconf: (No usable dialog-like program is installed, so the dialog based frontend cannot be used. at /usr/share/perl5/Debconf/FrontEnd/Dialog.pm line 76, <> line 49.)\n",
            "debconf: falling back to frontend: Readline\n",
            "debconf: unable to initialize frontend: Readline\n",
            "debconf: (This frontend requires a controlling tty.)\n",
            "debconf: falling back to frontend: Teletype\n",
            "dpkg-preconfigure: unable to re-open stdin: \n",
            "Selecting previously unselected package libxxf86dga1:amd64.\n",
            "(Reading database ... 144579 files and directories currently installed.)\n",
            "Preparing to unpack .../00-libxxf86dga1_2%3a1.1.4-1_amd64.deb ...\n",
            "Unpacking libxxf86dga1:amd64 (2:1.1.4-1) ...\n",
            "Selecting previously unselected package gcc-6-base:amd64.\n",
            "Preparing to unpack .../01-gcc-6-base_6.5.0-2ubuntu1~18.04_amd64.deb ...\n",
            "Unpacking gcc-6-base:amd64 (6.5.0-2ubuntu1~18.04) ...\n",
            "Selecting previously unselected package cpp-6.\n",
            "Preparing to unpack .../02-cpp-6_6.5.0-2ubuntu1~18.04_amd64.deb ...\n",
            "Unpacking cpp-6 (6.5.0-2ubuntu1~18.04) ...\n",
            "Selecting previously unselected package fonts-dejavu-core.\n",
            "Preparing to unpack .../03-fonts-dejavu-core_2.37-1_all.deb ...\n",
            "Unpacking fonts-dejavu-core (2.37-1) ...\n",
            "Selecting previously unselected package fonts-dejavu-extra.\n",
            "Preparing to unpack .../04-fonts-dejavu-extra_2.37-1_all.deb ...\n",
            "Unpacking fonts-dejavu-extra (2.37-1) ...\n",
            "Selecting previously unselected package libasan3:amd64.\n",
            "Preparing to unpack .../05-libasan3_6.5.0-2ubuntu1~18.04_amd64.deb ...\n",
            "Unpacking libasan3:amd64 (6.5.0-2ubuntu1~18.04) ...\n",
            "Selecting previously unselected package libgcc-6-dev:amd64.\n",
            "Preparing to unpack .../06-libgcc-6-dev_6.5.0-2ubuntu1~18.04_amd64.deb ...\n",
            "Unpacking libgcc-6-dev:amd64 (6.5.0-2ubuntu1~18.04) ...\n",
            "Selecting previously unselected package gcc-6.\n",
            "Preparing to unpack .../07-gcc-6_6.5.0-2ubuntu1~18.04_amd64.deb ...\n",
            "Unpacking gcc-6 (6.5.0-2ubuntu1~18.04) ...\n",
            "Selecting previously unselected package libstdc++-6-dev:amd64.\n",
            "Preparing to unpack .../08-libstdc++-6-dev_6.5.0-2ubuntu1~18.04_amd64.deb ...\n",
            "Unpacking libstdc++-6-dev:amd64 (6.5.0-2ubuntu1~18.04) ...\n",
            "Selecting previously unselected package g++-6.\n",
            "Preparing to unpack .../09-g++-6_6.5.0-2ubuntu1~18.04_amd64.deb ...\n",
            "Unpacking g++-6 (6.5.0-2ubuntu1~18.04) ...\n",
            "Selecting previously unselected package libaccinj64-9.1:amd64.\n",
            "Preparing to unpack .../10-libaccinj64-9.1_9.1.85-3ubuntu1_amd64.deb ...\n",
            "Unpacking libaccinj64-9.1:amd64 (9.1.85-3ubuntu1) ...\n",
            "Selecting previously unselected package x11-utils.\n",
            "Preparing to unpack .../11-x11-utils_7.7+3build1_amd64.deb ...\n",
            "Unpacking x11-utils (7.7+3build1) ...\n",
            "Selecting previously unselected package libatk-wrapper-java.\n",
            "Preparing to unpack .../12-libatk-wrapper-java_0.33.3-20ubuntu0.1_all.deb ...\n",
            "Unpacking libatk-wrapper-java (0.33.3-20ubuntu0.1) ...\n",
            "Selecting previously unselected package libatk-wrapper-java-jni:amd64.\n",
            "Preparing to unpack .../13-libatk-wrapper-java-jni_0.33.3-20ubuntu0.1_amd64.deb ...\n",
            "Unpacking libatk-wrapper-java-jni:amd64 (0.33.3-20ubuntu0.1) ...\n",
            "Selecting previously unselected package libcublas9.1:amd64.\n",
            "Preparing to unpack .../14-libcublas9.1_9.1.85-3ubuntu1_amd64.deb ...\n",
            "Unpacking libcublas9.1:amd64 (9.1.85-3ubuntu1) ...\n",
            "Selecting previously unselected package libcudart9.1:amd64.\n",
            "Preparing to unpack .../15-libcudart9.1_9.1.85-3ubuntu1_amd64.deb ...\n",
            "Unpacking libcudart9.1:amd64 (9.1.85-3ubuntu1) ...\n",
            "Selecting previously unselected package libcufft9.1:amd64.\n",
            "Preparing to unpack .../16-libcufft9.1_9.1.85-3ubuntu1_amd64.deb ...\n",
            "Unpacking libcufft9.1:amd64 (9.1.85-3ubuntu1) ...\n",
            "Selecting previously unselected package libcufftw9.1:amd64.\n",
            "Preparing to unpack .../17-libcufftw9.1_9.1.85-3ubuntu1_amd64.deb ...\n",
            "Unpacking libcufftw9.1:amd64 (9.1.85-3ubuntu1) ...\n",
            "Selecting previously unselected package libcuinj64-9.1:amd64.\n",
            "Preparing to unpack .../18-libcuinj64-9.1_9.1.85-3ubuntu1_amd64.deb ...\n",
            "Unpacking libcuinj64-9.1:amd64 (9.1.85-3ubuntu1) ...\n",
            "Selecting previously unselected package libcurand9.1:amd64.\n",
            "Preparing to unpack .../19-libcurand9.1_9.1.85-3ubuntu1_amd64.deb ...\n",
            "Unpacking libcurand9.1:amd64 (9.1.85-3ubuntu1) ...\n",
            "Selecting previously unselected package libcusolver9.1:amd64.\n",
            "Preparing to unpack .../20-libcusolver9.1_9.1.85-3ubuntu1_amd64.deb ...\n",
            "Unpacking libcusolver9.1:amd64 (9.1.85-3ubuntu1) ...\n",
            "Selecting previously unselected package libcusparse9.1:amd64.\n",
            "Preparing to unpack .../21-libcusparse9.1_9.1.85-3ubuntu1_amd64.deb ...\n",
            "Unpacking libcusparse9.1:amd64 (9.1.85-3ubuntu1) ...\n",
            "Selecting previously unselected package libnppc9.1:amd64.\n",
            "Preparing to unpack .../22-libnppc9.1_9.1.85-3ubuntu1_amd64.deb ...\n",
            "Unpacking libnppc9.1:amd64 (9.1.85-3ubuntu1) ...\n",
            "Selecting previously unselected package libnppial9.1:amd64.\n",
            "Preparing to unpack .../23-libnppial9.1_9.1.85-3ubuntu1_amd64.deb ...\n",
            "Unpacking libnppial9.1:amd64 (9.1.85-3ubuntu1) ...\n",
            "Selecting previously unselected package libnppicc9.1:amd64.\n",
            "Preparing to unpack .../24-libnppicc9.1_9.1.85-3ubuntu1_amd64.deb ...\n",
            "Unpacking libnppicc9.1:amd64 (9.1.85-3ubuntu1) ...\n",
            "Selecting previously unselected package libnppicom9.1:amd64.\n",
            "Preparing to unpack .../25-libnppicom9.1_9.1.85-3ubuntu1_amd64.deb ...\n",
            "Unpacking libnppicom9.1:amd64 (9.1.85-3ubuntu1) ...\n",
            "Selecting previously unselected package libnppidei9.1:amd64.\n",
            "Preparing to unpack .../26-libnppidei9.1_9.1.85-3ubuntu1_amd64.deb ...\n",
            "Unpacking libnppidei9.1:amd64 (9.1.85-3ubuntu1) ...\n",
            "Selecting previously unselected package libnppif9.1:amd64.\n",
            "Preparing to unpack .../27-libnppif9.1_9.1.85-3ubuntu1_amd64.deb ...\n",
            "Unpacking libnppif9.1:amd64 (9.1.85-3ubuntu1) ...\n",
            "Selecting previously unselected package libnppig9.1:amd64.\n",
            "Preparing to unpack .../28-libnppig9.1_9.1.85-3ubuntu1_amd64.deb ...\n",
            "Unpacking libnppig9.1:amd64 (9.1.85-3ubuntu1) ...\n",
            "Selecting previously unselected package libnppim9.1:amd64.\n",
            "Preparing to unpack .../29-libnppim9.1_9.1.85-3ubuntu1_amd64.deb ...\n",
            "Unpacking libnppim9.1:amd64 (9.1.85-3ubuntu1) ...\n",
            "Selecting previously unselected package libnppist9.1:amd64.\n",
            "Preparing to unpack .../30-libnppist9.1_9.1.85-3ubuntu1_amd64.deb ...\n",
            "Unpacking libnppist9.1:amd64 (9.1.85-3ubuntu1) ...\n",
            "Selecting previously unselected package libnppisu9.1:amd64.\n",
            "Preparing to unpack .../31-libnppisu9.1_9.1.85-3ubuntu1_amd64.deb ...\n",
            "Unpacking libnppisu9.1:amd64 (9.1.85-3ubuntu1) ...\n",
            "Selecting previously unselected package libnppitc9.1:amd64.\n",
            "Preparing to unpack .../32-libnppitc9.1_9.1.85-3ubuntu1_amd64.deb ...\n",
            "Unpacking libnppitc9.1:amd64 (9.1.85-3ubuntu1) ...\n",
            "Selecting previously unselected package libnpps9.1:amd64.\n",
            "Preparing to unpack .../33-libnpps9.1_9.1.85-3ubuntu1_amd64.deb ...\n",
            "Unpacking libnpps9.1:amd64 (9.1.85-3ubuntu1) ...\n",
            "Selecting previously unselected package libnvblas9.1:amd64.\n",
            "Preparing to unpack .../34-libnvblas9.1_9.1.85-3ubuntu1_amd64.deb ...\n",
            "Unpacking libnvblas9.1:amd64 (9.1.85-3ubuntu1) ...\n",
            "Selecting previously unselected package libnvgraph9.1:amd64.\n",
            "Preparing to unpack .../35-libnvgraph9.1_9.1.85-3ubuntu1_amd64.deb ...\n",
            "Unpacking libnvgraph9.1:amd64 (9.1.85-3ubuntu1) ...\n",
            "Selecting previously unselected package libnvrtc9.1:amd64.\n",
            "Preparing to unpack .../36-libnvrtc9.1_9.1.85-3ubuntu1_amd64.deb ...\n",
            "Unpacking libnvrtc9.1:amd64 (9.1.85-3ubuntu1) ...\n",
            "Selecting previously unselected package libvdpau-dev:amd64.\n",
            "Preparing to unpack .../37-libvdpau-dev_1.3-0ubuntu0~gpu18.04.2_amd64.deb ...\n",
            "Unpacking libvdpau-dev:amd64 (1.3-0ubuntu0~gpu18.04.2) ...\n",
            "Selecting previously unselected package openjdk-8-jre-headless:amd64.\n",
            "Preparing to unpack .../38-openjdk-8-jre-headless_8u265-b01-0ubuntu2~18.04_amd64.deb ...\n",
            "Unpacking openjdk-8-jre-headless:amd64 (8u265-b01-0ubuntu2~18.04) ...\n",
            "Selecting previously unselected package openjdk-8-jre:amd64.\n",
            "Preparing to unpack .../39-openjdk-8-jre_8u265-b01-0ubuntu2~18.04_amd64.deb ...\n",
            "Unpacking openjdk-8-jre:amd64 (8u265-b01-0ubuntu2~18.04) ...\n",
            "Selecting previously unselected package libnvtoolsext1:amd64.\n",
            "Preparing to unpack .../40-libnvtoolsext1_9.1.85-3ubuntu1_amd64.deb ...\n",
            "Unpacking libnvtoolsext1:amd64 (9.1.85-3ubuntu1) ...\n",
            "Selecting previously unselected package libnvvm3:amd64.\n",
            "Preparing to unpack .../41-libnvvm3_9.1.85-3ubuntu1_amd64.deb ...\n",
            "Unpacking libnvvm3:amd64 (9.1.85-3ubuntu1) ...\n",
            "Selecting previously unselected package libthrust-dev.\n",
            "Preparing to unpack .../42-libthrust-dev_1.9.1~9.1.85-3ubuntu1_all.deb ...\n",
            "Unpacking libthrust-dev (1.9.1~9.1.85-3ubuntu1) ...\n",
            "Selecting previously unselected package nvidia-cuda-dev.\n",
            "Preparing to unpack .../43-nvidia-cuda-dev_9.1.85-3ubuntu1_amd64.deb ...\n",
            "Unpacking nvidia-cuda-dev (9.1.85-3ubuntu1) ...\n",
            "\u001b[1mdpkg:\u001b[0m error processing archive /tmp/apt-dpkg-install-Y2FO2R/43-nvidia-cuda-dev_9.1.85-3ubuntu1_amd64.deb (--unpack):\n",
            " trying to overwrite '/usr/include/cublas.h', which is also in package libcublas-dev 10.2.1.243-1\n",
            "\u001b[1mdpkg-deb:\u001b[0m \u001b[1;31merror:\u001b[0m paste subprocess was killed by signal (Broken pipe)\n",
            "Selecting previously unselected package nvidia-cuda-doc.\n",
            "Preparing to unpack .../44-nvidia-cuda-doc_9.1.85-3ubuntu1_all.deb ...\n",
            "Unpacking nvidia-cuda-doc (9.1.85-3ubuntu1) ...\n",
            "Selecting previously unselected package nvidia-cuda-gdb.\n",
            "Preparing to unpack .../45-nvidia-cuda-gdb_9.1.85-3ubuntu1_amd64.deb ...\n",
            "Unpacking nvidia-cuda-gdb (9.1.85-3ubuntu1) ...\n",
            "Selecting previously unselected package nvidia-profiler.\n",
            "Preparing to unpack .../46-nvidia-profiler_9.1.85-3ubuntu1_amd64.deb ...\n",
            "Unpacking nvidia-profiler (9.1.85-3ubuntu1) ...\n",
            "Selecting previously unselected package nvidia-cuda-toolkit.\n",
            "Preparing to unpack .../47-nvidia-cuda-toolkit_9.1.85-3ubuntu1_amd64.deb ...\n",
            "Unpacking nvidia-cuda-toolkit (9.1.85-3ubuntu1) ...\n",
            "Selecting previously unselected package nvidia-visual-profiler.\n",
            "Preparing to unpack .../48-nvidia-visual-profiler_9.1.85-3ubuntu1_amd64.deb ...\n",
            "Unpacking nvidia-visual-profiler (9.1.85-3ubuntu1) ...\n",
            "Errors were encountered while processing:\n",
            " /tmp/apt-dpkg-install-Y2FO2R/43-nvidia-cuda-dev_9.1.85-3ubuntu1_amd64.deb\n",
            "E: Sub-process /usr/bin/dpkg returned an error code (1)\n"
          ],
          "name": "stdout"
        }
      ]
    },
    {
      "cell_type": "code",
      "metadata": {
        "id": "_hgVhDMZbgtD",
        "colab_type": "code",
        "colab": {}
      },
      "source": [
        "! rm -rf PGP"
      ],
      "execution_count": 100,
      "outputs": []
    },
    {
      "cell_type": "code",
      "metadata": {
        "id": "I5iQt3aXcd1D",
        "colab_type": "code",
        "colab": {
          "base_uri": "https://localhost:8080/",
          "height": 136
        },
        "outputId": "bccd9f0f-d67f-4463-de6c-e95895926174"
      },
      "source": [
        "! git clone https://github.com/linuxxxoid/PGP.git"
      ],
      "execution_count": 101,
      "outputs": [
        {
          "output_type": "stream",
          "text": [
            "Cloning into 'PGP'...\n",
            "remote: Enumerating objects: 123, done.\u001b[K\n",
            "remote: Counting objects: 100% (123/123), done.\u001b[K\n",
            "remote: Compressing objects: 100% (119/119), done.\u001b[K\n",
            "remote: Total 123 (delta 37), reused 0 (delta 0), pack-reused 0\u001b[K\n",
            "Receiving objects: 100% (123/123), 28.73 KiB | 4.79 MiB/s, done.\n",
            "Resolving deltas: 100% (37/37), done.\n"
          ],
          "name": "stdout"
        }
      ]
    },
    {
      "cell_type": "code",
      "metadata": {
        "id": "t8Rfn9Fyfxup",
        "colab_type": "code",
        "colab": {
          "base_uri": "https://localhost:8080/",
          "height": 34
        },
        "outputId": "5babd470-726e-45ca-c896-7c186cb0c690"
      },
      "source": [
        "! ls PGP"
      ],
      "execution_count": 102,
      "outputs": [
        {
          "output_type": "stream",
          "text": [
            "lab1  README.md\n"
          ],
          "name": "stdout"
        }
      ]
    },
    {
      "cell_type": "code",
      "metadata": {
        "id": "_CvYSI0enuLL",
        "colab_type": "code",
        "colab": {
          "base_uri": "https://localhost:8080/",
          "height": 187
        },
        "outputId": "dc7ffc6d-1139-462f-e7ad-7a62163915c2"
      },
      "source": [
        "%%bash\n",
        "\n",
        "cd PGP/lab1\n",
        "nvcc --std=c++11 -Werror cross-execution-space-call -lm info.cu -o info\n",
        "\n",
        "./info"
      ],
      "execution_count": 103,
      "outputs": [
        {
          "output_type": "stream",
          "text": [
            "Device Number: 0\n",
            "  Device name: Tesla P100-PCIE-16GB\n",
            "  totalGlobalMem: 17071734784\n",
            " Const Mem : 65536\n",
            "Max shared mem for blocks 49152\n",
            "max regs per block 65536\n",
            "Max thread per block 1024\n",
            "multiProcessorCount : 56\n",
            "maxThreadsDim 1024 1024 64\n",
            "maxGridSize 2147483647 65535 65535\n"
          ],
          "name": "stdout"
        }
      ]
    },
    {
      "cell_type": "code",
      "metadata": {
        "id": "zAgn1A3sce5v",
        "colab_type": "code",
        "colab": {
          "base_uri": "https://localhost:8080/",
          "height": 54
        },
        "outputId": "61689305-6c6c-448f-c049-55d29f7b912c"
      },
      "source": [
        "%%bash\n",
        "\n",
        "cd PGP/lab1\n",
        "nvcc --std=c++11 -Werror cross-execution-space-call -lm lab1.cu -o run\n",
        "./run < testik"
      ],
      "execution_count": 105,
      "outputs": [
        {
          "output_type": "stream",
          "text": [
            "1.0240000000e+03 1.0230000000e+03 1.0220000000e+03 1.0210000000e+03 1.0200000000e+03 1.0190000000e+03 1.0180000000e+03 1.0170000000e+03 1.0160000000e+03 1.0150000000e+03 1.0140000000e+03 1.0130000000e+03 1.0120000000e+03 1.0110000000e+03 1.0100000000e+03 1.0090000000e+03 1.0080000000e+03 1.0070000000e+03 1.0060000000e+03 1.0050000000e+03 1.0040000000e+03 1.0030000000e+03 1.0020000000e+03 1.0010000000e+03 1.0000000000e+03 9.9900000000e+02 9.9800000000e+02 9.9700000000e+02 9.9600000000e+02 9.9500000000e+02 9.9400000000e+02 9.9300000000e+02 9.9200000000e+02 9.9100000000e+02 9.9000000000e+02 9.8900000000e+02 9.8800000000e+02 9.8700000000e+02 9.8600000000e+02 9.8500000000e+02 9.8400000000e+02 9.8300000000e+02 9.8200000000e+02 9.8100000000e+02 9.8000000000e+02 9.7900000000e+02 9.7800000000e+02 9.7700000000e+02 9.7600000000e+02 9.7500000000e+02 9.7400000000e+02 9.7300000000e+02 9.7200000000e+02 9.7100000000e+02 9.7000000000e+02 9.6900000000e+02 9.6800000000e+02 9.6700000000e+02 9.6600000000e+02 9.6500000000e+02 9.6400000000e+02 9.6300000000e+02 9.6200000000e+02 9.6100000000e+02 9.6000000000e+02 9.5900000000e+02 9.5800000000e+02 9.5700000000e+02 9.5600000000e+02 9.5500000000e+02 9.5400000000e+02 9.5300000000e+02 9.5200000000e+02 9.5100000000e+02 9.5000000000e+02 9.4900000000e+02 9.4800000000e+02 9.4700000000e+02 9.4600000000e+02 9.4500000000e+02 9.4400000000e+02 9.4300000000e+02 9.4200000000e+02 9.4100000000e+02 9.4000000000e+02 9.3900000000e+02 9.3800000000e+02 9.3700000000e+02 9.3600000000e+02 9.3500000000e+02 9.3400000000e+02 9.3300000000e+02 9.3200000000e+02 9.3100000000e+02 9.3000000000e+02 9.2900000000e+02 9.2800000000e+02 9.2700000000e+02 9.2600000000e+02 9.2500000000e+02 9.2400000000e+02 9.2300000000e+02 9.2200000000e+02 9.2100000000e+02 9.2000000000e+02 9.1900000000e+02 9.1800000000e+02 9.1700000000e+02 9.1600000000e+02 9.1500000000e+02 9.1400000000e+02 9.1300000000e+02 9.1200000000e+02 9.1100000000e+02 9.1000000000e+02 9.0900000000e+02 9.0800000000e+02 9.0700000000e+02 9.0600000000e+02 9.0500000000e+02 9.0400000000e+02 9.0300000000e+02 9.0200000000e+02 9.0100000000e+02 9.0000000000e+02 8.9900000000e+02 8.9800000000e+02 8.9700000000e+02 8.9600000000e+02 8.9500000000e+02 8.9400000000e+02 8.9300000000e+02 8.9200000000e+02 8.9100000000e+02 8.9000000000e+02 8.8900000000e+02 8.8800000000e+02 8.8700000000e+02 8.8600000000e+02 8.8500000000e+02 8.8400000000e+02 8.8300000000e+02 8.8200000000e+02 8.8100000000e+02 8.8000000000e+02 8.7900000000e+02 8.7800000000e+02 8.7700000000e+02 8.7600000000e+02 8.7500000000e+02 8.7400000000e+02 8.7300000000e+02 8.7200000000e+02 8.7100000000e+02 8.7000000000e+02 8.6900000000e+02 8.6800000000e+02 8.6700000000e+02 8.6600000000e+02 8.6500000000e+02 8.6400000000e+02 8.6300000000e+02 8.6200000000e+02 8.6100000000e+02 8.6000000000e+02 8.5900000000e+02 8.5800000000e+02 8.5700000000e+02 8.5600000000e+02 8.5500000000e+02 8.5400000000e+02 8.5300000000e+02 8.5200000000e+02 8.5100000000e+02 8.5000000000e+02 8.4900000000e+02 8.4800000000e+02 8.4700000000e+02 8.4600000000e+02 8.4500000000e+02 8.4400000000e+02 8.4300000000e+02 8.4200000000e+02 8.4100000000e+02 8.4000000000e+02 8.3900000000e+02 8.3800000000e+02 8.3700000000e+02 8.3600000000e+02 8.3500000000e+02 8.3400000000e+02 8.3300000000e+02 8.3200000000e+02 8.3100000000e+02 8.3000000000e+02 8.2900000000e+02 8.2800000000e+02 8.2700000000e+02 8.2600000000e+02 8.2500000000e+02 8.2400000000e+02 8.2300000000e+02 8.2200000000e+02 8.2100000000e+02 8.2000000000e+02 8.1900000000e+02 8.1800000000e+02 8.1700000000e+02 8.1600000000e+02 8.1500000000e+02 8.1400000000e+02 8.1300000000e+02 8.1200000000e+02 8.1100000000e+02 8.1000000000e+02 8.0900000000e+02 8.0800000000e+02 8.0700000000e+02 8.0600000000e+02 8.0500000000e+02 8.0400000000e+02 8.0300000000e+02 8.0200000000e+02 8.0100000000e+02 8.0000000000e+02 7.9900000000e+02 7.9800000000e+02 7.9700000000e+02 7.9600000000e+02 7.9500000000e+02 7.9400000000e+02 7.9300000000e+02 7.9200000000e+02 7.9100000000e+02 7.9000000000e+02 7.8900000000e+02 7.8800000000e+02 7.8700000000e+02 7.8600000000e+02 7.8500000000e+02 7.8400000000e+02 7.8300000000e+02 7.8200000000e+02 7.8100000000e+02 7.8000000000e+02 7.7900000000e+02 7.7800000000e+02 7.7700000000e+02 7.7600000000e+02 7.7500000000e+02 7.7400000000e+02 7.7300000000e+02 7.7200000000e+02 7.7100000000e+02 7.7000000000e+02 7.6900000000e+02 7.6800000000e+02 7.6700000000e+02 7.6600000000e+02 7.6500000000e+02 7.6400000000e+02 7.6300000000e+02 7.6200000000e+02 7.6100000000e+02 7.6000000000e+02 7.5900000000e+02 7.5800000000e+02 7.5700000000e+02 7.5600000000e+02 7.5500000000e+02 7.5400000000e+02 7.5300000000e+02 7.5200000000e+02 7.5100000000e+02 7.5000000000e+02 7.4900000000e+02 7.4800000000e+02 7.4700000000e+02 7.4600000000e+02 7.4500000000e+02 7.4400000000e+02 7.4300000000e+02 7.4200000000e+02 7.4100000000e+02 7.4000000000e+02 7.3900000000e+02 7.3800000000e+02 7.3700000000e+02 7.3600000000e+02 7.3500000000e+02 7.3400000000e+02 7.3300000000e+02 7.3200000000e+02 7.3100000000e+02 7.3000000000e+02 7.2900000000e+02 7.2800000000e+02 7.2700000000e+02 7.2600000000e+02 7.2500000000e+02 7.2400000000e+02 7.2300000000e+02 7.2200000000e+02 7.2100000000e+02 7.2000000000e+02 7.1900000000e+02 7.1800000000e+02 7.1700000000e+02 7.1600000000e+02 7.1500000000e+02 7.1400000000e+02 7.1300000000e+02 7.1200000000e+02 7.1100000000e+02 7.1000000000e+02 7.0900000000e+02 7.0800000000e+02 7.0700000000e+02 7.0600000000e+02 7.0500000000e+02 7.0400000000e+02 7.0300000000e+02 7.0200000000e+02 7.0100000000e+02 7.0000000000e+02 6.9900000000e+02 6.9800000000e+02 6.9700000000e+02 6.9600000000e+02 6.9500000000e+02 6.9400000000e+02 6.9300000000e+02 6.9200000000e+02 6.9100000000e+02 6.9000000000e+02 6.8900000000e+02 6.8800000000e+02 6.8700000000e+02 6.8600000000e+02 6.8500000000e+02 6.8400000000e+02 6.8300000000e+02 6.8200000000e+02 6.8100000000e+02 6.8000000000e+02 6.7900000000e+02 6.7800000000e+02 6.7700000000e+02 6.7600000000e+02 6.7500000000e+02 6.7400000000e+02 6.7300000000e+02 6.7200000000e+02 6.7100000000e+02 6.7000000000e+02 6.6900000000e+02 6.6800000000e+02 6.6700000000e+02 6.6600000000e+02 6.6500000000e+02 6.6400000000e+02 6.6300000000e+02 6.6200000000e+02 6.6100000000e+02 6.6000000000e+02 6.5900000000e+02 6.5800000000e+02 6.5700000000e+02 6.5600000000e+02 6.5500000000e+02 6.5400000000e+02 6.5300000000e+02 6.5200000000e+02 6.5100000000e+02 6.5000000000e+02 6.4900000000e+02 6.4800000000e+02 6.4700000000e+02 6.4600000000e+02 6.4500000000e+02 6.4400000000e+02 6.4300000000e+02 6.4200000000e+02 6.4100000000e+02 6.4000000000e+02 6.3900000000e+02 6.3800000000e+02 6.3700000000e+02 6.3600000000e+02 6.3500000000e+02 6.3400000000e+02 6.3300000000e+02 6.3200000000e+02 6.3100000000e+02 6.3000000000e+02 6.2900000000e+02 6.2800000000e+02 6.2700000000e+02 6.2600000000e+02 6.2500000000e+02 6.2400000000e+02 6.2300000000e+02 6.2200000000e+02 6.2100000000e+02 6.2000000000e+02 6.1900000000e+02 6.1800000000e+02 6.1700000000e+02 6.1600000000e+02 6.1500000000e+02 6.1400000000e+02 6.1300000000e+02 6.1200000000e+02 6.1100000000e+02 6.1000000000e+02 6.0900000000e+02 6.0800000000e+02 6.0700000000e+02 6.0600000000e+02 6.0500000000e+02 6.0400000000e+02 6.0300000000e+02 6.0200000000e+02 6.0100000000e+02 6.0000000000e+02 5.9900000000e+02 5.9800000000e+02 5.9700000000e+02 5.9600000000e+02 5.9500000000e+02 5.9400000000e+02 5.9300000000e+02 5.9200000000e+02 5.9100000000e+02 5.9000000000e+02 5.8900000000e+02 5.8800000000e+02 5.8700000000e+02 5.8600000000e+02 5.8500000000e+02 5.8400000000e+02 5.8300000000e+02 5.8200000000e+02 5.8100000000e+02 5.8000000000e+02 5.7900000000e+02 5.7800000000e+02 5.7700000000e+02 5.7600000000e+02 5.7500000000e+02 5.7400000000e+02 5.7300000000e+02 5.7200000000e+02 5.7100000000e+02 5.7000000000e+02 5.6900000000e+02 5.6800000000e+02 5.6700000000e+02 5.6600000000e+02 5.6500000000e+02 5.6400000000e+02 5.6300000000e+02 5.6200000000e+02 5.6100000000e+02 5.6000000000e+02 5.5900000000e+02 5.5800000000e+02 5.5700000000e+02 5.5600000000e+02 5.5500000000e+02 5.5400000000e+02 5.5300000000e+02 5.5200000000e+02 5.5100000000e+02 5.5000000000e+02 5.4900000000e+02 5.4800000000e+02 5.4700000000e+02 5.4600000000e+02 5.4500000000e+02 5.4400000000e+02 5.4300000000e+02 5.4200000000e+02 5.4100000000e+02 5.4000000000e+02 5.3900000000e+02 5.3800000000e+02 5.3700000000e+02 5.3600000000e+02 5.3500000000e+02 5.3400000000e+02 5.3300000000e+02 5.3200000000e+02 5.3100000000e+02 5.3000000000e+02 5.2900000000e+02 5.2800000000e+02 5.2700000000e+02 5.2600000000e+02 5.2500000000e+02 5.2400000000e+02 5.2300000000e+02 5.2200000000e+02 5.2100000000e+02 5.2000000000e+02 5.1900000000e+02 5.1800000000e+02 5.1700000000e+02 5.1600000000e+02 5.1500000000e+02 5.1400000000e+02 5.1300000000e+02 5.1200000000e+02 5.1100000000e+02 5.1000000000e+02 5.0900000000e+02 5.0800000000e+02 5.0700000000e+02 5.0600000000e+02 5.0500000000e+02 5.0400000000e+02 5.0300000000e+02 5.0200000000e+02 5.0100000000e+02 5.0000000000e+02 4.9900000000e+02 4.9800000000e+02 4.9700000000e+02 4.9600000000e+02 4.9500000000e+02 4.9400000000e+02 4.9300000000e+02 4.9200000000e+02 4.9100000000e+02 4.9000000000e+02 4.8900000000e+02 4.8800000000e+02 4.8700000000e+02 4.8600000000e+02 4.8500000000e+02 4.8400000000e+02 4.8300000000e+02 4.8200000000e+02 4.8100000000e+02 4.8000000000e+02 4.7900000000e+02 4.7800000000e+02 4.7700000000e+02 4.7600000000e+02 4.7500000000e+02 4.7400000000e+02 4.7300000000e+02 4.7200000000e+02 4.7100000000e+02 4.7000000000e+02 4.6900000000e+02 4.6800000000e+02 4.6700000000e+02 4.6600000000e+02 4.6500000000e+02 4.6400000000e+02 4.6300000000e+02 4.6200000000e+02 4.6100000000e+02 4.6000000000e+02 4.5900000000e+02 4.5800000000e+02 4.5700000000e+02 4.5600000000e+02 4.5500000000e+02 4.5400000000e+02 4.5300000000e+02 4.5200000000e+02 4.5100000000e+02 4.5000000000e+02 4.4900000000e+02 4.4800000000e+02 4.4700000000e+02 4.4600000000e+02 4.4500000000e+02 4.4400000000e+02 4.4300000000e+02 4.4200000000e+02 4.4100000000e+02 4.4000000000e+02 4.3900000000e+02 4.3800000000e+02 4.3700000000e+02 4.3600000000e+02 4.3500000000e+02 4.3400000000e+02 4.3300000000e+02 4.3200000000e+02 4.3100000000e+02 4.3000000000e+02 4.2900000000e+02 4.2800000000e+02 4.2700000000e+02 4.2600000000e+02 4.2500000000e+02 4.2400000000e+02 4.2300000000e+02 4.2200000000e+02 4.2100000000e+02 4.2000000000e+02 4.1900000000e+02 4.1800000000e+02 4.1700000000e+02 4.1600000000e+02 4.1500000000e+02 4.1400000000e+02 4.1300000000e+02 4.1200000000e+02 4.1100000000e+02 4.1000000000e+02 4.0900000000e+02 4.0800000000e+02 4.0700000000e+02 4.0600000000e+02 4.0500000000e+02 4.0400000000e+02 4.0300000000e+02 4.0200000000e+02 4.0100000000e+02 4.0000000000e+02 3.9900000000e+02 3.9800000000e+02 3.9700000000e+02 3.9600000000e+02 3.9500000000e+02 3.9400000000e+02 3.9300000000e+02 3.9200000000e+02 3.9100000000e+02 3.9000000000e+02 3.8900000000e+02 3.8800000000e+02 3.8700000000e+02 3.8600000000e+02 3.8500000000e+02 3.8400000000e+02 3.8300000000e+02 3.8200000000e+02 3.8100000000e+02 3.8000000000e+02 3.7900000000e+02 3.7800000000e+02 3.7700000000e+02 3.7600000000e+02 3.7500000000e+02 3.7400000000e+02 3.7300000000e+02 3.7200000000e+02 3.7100000000e+02 3.7000000000e+02 3.6900000000e+02 3.6800000000e+02 3.6700000000e+02 3.6600000000e+02 3.6500000000e+02 3.6400000000e+02 3.6300000000e+02 3.6200000000e+02 3.6100000000e+02 3.6000000000e+02 3.5900000000e+02 3.5800000000e+02 3.5700000000e+02 3.5600000000e+02 3.5500000000e+02 3.5400000000e+02 3.5300000000e+02 3.5200000000e+02 3.5100000000e+02 3.5000000000e+02 3.4900000000e+02 3.4800000000e+02 3.4700000000e+02 3.4600000000e+02 3.4500000000e+02 3.4400000000e+02 3.4300000000e+02 3.4200000000e+02 3.4100000000e+02 3.4000000000e+02 3.3900000000e+02 3.3800000000e+02 3.3700000000e+02 3.3600000000e+02 3.3500000000e+02 3.3400000000e+02 3.3300000000e+02 3.3200000000e+02 3.3100000000e+02 3.3000000000e+02 3.2900000000e+02 3.2800000000e+02 3.2700000000e+02 3.2600000000e+02 3.2500000000e+02 3.2400000000e+02 3.2300000000e+02 3.2200000000e+02 3.2100000000e+02 3.2000000000e+02 3.1900000000e+02 3.1800000000e+02 3.1700000000e+02 3.1600000000e+02 3.1500000000e+02 3.1400000000e+02 3.1300000000e+02 3.1200000000e+02 3.1100000000e+02 3.1000000000e+02 3.0900000000e+02 3.0800000000e+02 3.0700000000e+02 3.0600000000e+02 3.0500000000e+02 3.0400000000e+02 3.0300000000e+02 3.0200000000e+02 3.0100000000e+02 3.0000000000e+02 2.9900000000e+02 2.9800000000e+02 2.9700000000e+02 2.9600000000e+02 2.9500000000e+02 2.9400000000e+02 2.9300000000e+02 2.9200000000e+02 2.9100000000e+02 2.9000000000e+02 2.8900000000e+02 2.8800000000e+02 2.8700000000e+02 2.8600000000e+02 2.8500000000e+02 2.8400000000e+02 2.8300000000e+02 2.8200000000e+02 2.8100000000e+02 2.8000000000e+02 2.7900000000e+02 2.7800000000e+02 2.7700000000e+02 2.7600000000e+02 2.7500000000e+02 2.7400000000e+02 2.7300000000e+02 2.7200000000e+02 2.7100000000e+02 2.7000000000e+02 2.6900000000e+02 2.6800000000e+02 2.6700000000e+02 2.6600000000e+02 2.6500000000e+02 2.6400000000e+02 2.6300000000e+02 2.6200000000e+02 2.6100000000e+02 2.6000000000e+02 2.5900000000e+02 2.5800000000e+02 2.5700000000e+02 2.5600000000e+02 2.5500000000e+02 2.5400000000e+02 2.5300000000e+02 2.5200000000e+02 2.5100000000e+02 2.5000000000e+02 2.4900000000e+02 2.4800000000e+02 2.4700000000e+02 2.4600000000e+02 2.4500000000e+02 2.4400000000e+02 2.4300000000e+02 2.4200000000e+02 2.4100000000e+02 2.4000000000e+02 2.3900000000e+02 2.3800000000e+02 2.3700000000e+02 2.3600000000e+02 2.3500000000e+02 2.3400000000e+02 2.3300000000e+02 2.3200000000e+02 2.3100000000e+02 2.3000000000e+02 2.2900000000e+02 2.2800000000e+02 2.2700000000e+02 2.2600000000e+02 2.2500000000e+02 2.2400000000e+02 2.2300000000e+02 2.2200000000e+02 2.2100000000e+02 2.2000000000e+02 2.1900000000e+02 2.1800000000e+02 2.1700000000e+02 2.1600000000e+02 2.1500000000e+02 2.1400000000e+02 2.1300000000e+02 2.1200000000e+02 2.1100000000e+02 2.1000000000e+02 2.0900000000e+02 2.0800000000e+02 2.0700000000e+02 2.0600000000e+02 2.0500000000e+02 2.0400000000e+02 2.0300000000e+02 2.0200000000e+02 2.0100000000e+02 2.0000000000e+02 1.9900000000e+02 1.9800000000e+02 1.9700000000e+02 1.9600000000e+02 1.9500000000e+02 1.9400000000e+02 1.9300000000e+02 1.9200000000e+02 1.9100000000e+02 1.9000000000e+02 1.8900000000e+02 1.8800000000e+02 1.8700000000e+02 1.8600000000e+02 1.8500000000e+02 1.8400000000e+02 1.8300000000e+02 1.8200000000e+02 1.8100000000e+02 1.8000000000e+02 1.7900000000e+02 1.7800000000e+02 1.7700000000e+02 1.7600000000e+02 1.7500000000e+02 1.7400000000e+02 1.7300000000e+02 1.7200000000e+02 1.7100000000e+02 1.7000000000e+02 1.6900000000e+02 1.6800000000e+02 1.6700000000e+02 1.6600000000e+02 1.6500000000e+02 1.6400000000e+02 1.6300000000e+02 1.6200000000e+02 1.6100000000e+02 1.6000000000e+02 1.5900000000e+02 1.5800000000e+02 1.5700000000e+02 1.5600000000e+02 1.5500000000e+02 1.5400000000e+02 1.5300000000e+02 1.5200000000e+02 1.5100000000e+02 1.5000000000e+02 1.4900000000e+02 1.4800000000e+02 1.4700000000e+02 1.4600000000e+02 1.4500000000e+02 1.4400000000e+02 1.4300000000e+02 1.4200000000e+02 1.4100000000e+02 1.4000000000e+02 1.3900000000e+02 1.3800000000e+02 1.3700000000e+02 1.3600000000e+02 1.3500000000e+02 1.3400000000e+02 1.3300000000e+02 1.3200000000e+02 1.3100000000e+02 1.3000000000e+02 1.2900000000e+02 1.2800000000e+02 1.2700000000e+02 1.2600000000e+02 1.2500000000e+02 1.2400000000e+02 1.2300000000e+02 1.2200000000e+02 1.2100000000e+02 1.2000000000e+02 1.1900000000e+02 1.1800000000e+02 1.1700000000e+02 1.1600000000e+02 1.1500000000e+02 1.1400000000e+02 1.1300000000e+02 1.1200000000e+02 1.1100000000e+02 1.1000000000e+02 1.0900000000e+02 1.0800000000e+02 1.0700000000e+02 1.0600000000e+02 1.0500000000e+02 1.0400000000e+02 1.0300000000e+02 1.0200000000e+02 1.0100000000e+02 1.0000000000e+02 9.9000000000e+01 9.8000000000e+01 9.7000000000e+01 9.6000000000e+01 9.5000000000e+01 9.4000000000e+01 9.3000000000e+01 9.2000000000e+01 9.1000000000e+01 9.0000000000e+01 8.9000000000e+01 8.8000000000e+01 8.7000000000e+01 8.6000000000e+01 8.5000000000e+01 8.4000000000e+01 8.3000000000e+01 8.2000000000e+01 8.1000000000e+01 8.0000000000e+01 7.9000000000e+01 7.8000000000e+01 7.7000000000e+01 7.6000000000e+01 7.5000000000e+01 7.4000000000e+01 7.3000000000e+01 7.2000000000e+01 7.1000000000e+01 7.0000000000e+01 6.9000000000e+01 6.8000000000e+01 6.7000000000e+01 6.6000000000e+01 6.5000000000e+01 6.4000000000e+01 6.3000000000e+01 6.2000000000e+01 6.1000000000e+01 6.0000000000e+01 5.9000000000e+01 5.8000000000e+01 5.7000000000e+01 5.6000000000e+01 5.5000000000e+01 5.4000000000e+01 5.3000000000e+01 5.2000000000e+01 5.1000000000e+01 5.0000000000e+01 4.9000000000e+01 4.8000000000e+01 4.7000000000e+01 4.6000000000e+01 4.5000000000e+01 4.4000000000e+01 4.3000000000e+01 4.2000000000e+01 4.1000000000e+01 4.0000000000e+01 3.9000000000e+01 3.8000000000e+01 3.7000000000e+01 3.6000000000e+01 3.5000000000e+01 3.4000000000e+01 3.3000000000e+01 3.2000000000e+01 3.1000000000e+01 3.0000000000e+01 2.9000000000e+01 2.8000000000e+01 2.7000000000e+01 2.6000000000e+01 2.5000000000e+01 2.4000000000e+01 2.3000000000e+01 2.2000000000e+01 2.1000000000e+01 2.0000000000e+01 1.9000000000e+01 1.8000000000e+01 1.7000000000e+01 1.6000000000e+01 1.5000000000e+01 1.4000000000e+01 1.3000000000e+01 1.2000000000e+01 1.1000000000e+01 1.0000000000e+01 9.0000000000e+00 8.0000000000e+00 7.0000000000e+00 6.0000000000e+00 5.0000000000e+00 4.0000000000e+00 3.0000000000e+00 2.0000000000e+00 1.0000000000e+00 0.0000000000e+00\n"
          ],
          "name": "stdout"
        }
      ]
    }
  ]
}